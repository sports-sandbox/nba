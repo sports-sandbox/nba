{
 "cells": [
  {
   "cell_type": "markdown",
   "metadata": {},
   "source": [
    "# Shooting Improvements\n",
    "\n",
    "### Introduction\n",
    "In this notebook, we are going to attempt to understand how likely it is for a player to improve in both their 3pt shooting and their free throw shooting over the course of their career. \n",
    "\n",
    "Questions I hope to answer:\n",
    "- What's the trend for player shooting across their career?\n",
    "- What does shooting percentage look like if we consider age instead of just years of experience?\n",
    "- Can players who are bad at shooting early on improve?\n",
    "- If you start your career with a high shooting percentage, will it just keep going up?\n",
    "\n",
    "Note: In a separate notebook, I've performed some transformations to get a dataset containing shooting (and other stats) for each player\n",
    "\n",
    "Credit to the nba_api library: https://github.com/swar/nba_api"
   ]
  },
  {
   "cell_type": "code",
   "execution_count": 61,
   "metadata": {},
   "outputs": [],
   "source": [
    "from nba_api.stats.endpoints import commonplayerinfo, playerdashboardbyyearoveryear, commonteamroster\n",
    "from nba_api.stats.static import players, teams\n",
    "import time\n",
    "import pandas as pd\n",
    "import numpy as np\n",
    "import math\n",
    "\n",
    "import warnings\n",
    "warnings.filterwarnings(\"ignore\")"
   ]
  },
  {
   "cell_type": "markdown",
   "metadata": {},
   "source": [
    "### Part 1: Baselines\n",
    "\n",
    "First we should establish some baselines. I want to understand what an average player does in a season in terms of shooting"
   ]
  },
  {
   "cell_type": "code",
   "execution_count": 32,
   "metadata": {},
   "outputs": [
    {
     "data": {
      "text/html": [
       "<div>\n",
       "<table border=\"1\" class=\"dataframe\">\n",
       "  <thead>\n",
       "    <tr style=\"text-align: right;\">\n",
       "      <th></th>\n",
       "      <th>Unnamed: 0</th>\n",
       "      <th>GROUP_VALUE</th>\n",
       "      <th>GP</th>\n",
       "      <th>MIN</th>\n",
       "      <th>FGM</th>\n",
       "      <th>FGA</th>\n",
       "      <th>FG_PCT</th>\n",
       "      <th>FG3M</th>\n",
       "      <th>FG3A</th>\n",
       "      <th>FG3_PCT</th>\n",
       "      <th>...</th>\n",
       "      <th>BLK</th>\n",
       "      <th>PTS</th>\n",
       "      <th>PLUS_MINUS</th>\n",
       "      <th>experience</th>\n",
       "      <th>PLAYER_NAME</th>\n",
       "      <th>PLAYER_ID</th>\n",
       "      <th>age</th>\n",
       "      <th>yr</th>\n",
       "      <th>adj_age</th>\n",
       "      <th>max_experience</th>\n",
       "    </tr>\n",
       "  </thead>\n",
       "  <tbody>\n",
       "    <tr>\n",
       "      <th>0</th>\n",
       "      <td>0</td>\n",
       "      <td>2015-16</td>\n",
       "      <td>55</td>\n",
       "      <td>646.876667</td>\n",
       "      <td>71</td>\n",
       "      <td>175</td>\n",
       "      <td>0.406000</td>\n",
       "      <td>22</td>\n",
       "      <td>83</td>\n",
       "      <td>0.265</td>\n",
       "      <td>...</td>\n",
       "      <td>25</td>\n",
       "      <td>208</td>\n",
       "      <td>7</td>\n",
       "      <td>0</td>\n",
       "      <td>Justin Anderson</td>\n",
       "      <td>1626147</td>\n",
       "      <td>24</td>\n",
       "      <td>2015</td>\n",
       "      <td>21</td>\n",
       "      <td>2</td>\n",
       "    </tr>\n",
       "    <tr>\n",
       "      <th>1</th>\n",
       "      <td>1</td>\n",
       "      <td>2016-17</td>\n",
       "      <td>150</td>\n",
       "      <td>2454.466667</td>\n",
       "      <td>372</td>\n",
       "      <td>878</td>\n",
       "      <td>0.429333</td>\n",
       "      <td>116</td>\n",
       "      <td>388</td>\n",
       "      <td>0.298</td>\n",
       "      <td>...</td>\n",
       "      <td>46</td>\n",
       "      <td>1064</td>\n",
       "      <td>-388</td>\n",
       "      <td>1</td>\n",
       "      <td>Justin Anderson</td>\n",
       "      <td>1626147</td>\n",
       "      <td>24</td>\n",
       "      <td>2016</td>\n",
       "      <td>22</td>\n",
       "      <td>2</td>\n",
       "    </tr>\n",
       "    <tr>\n",
       "      <th>2</th>\n",
       "      <td>2</td>\n",
       "      <td>2017-18</td>\n",
       "      <td>38</td>\n",
       "      <td>519.150000</td>\n",
       "      <td>87</td>\n",
       "      <td>202</td>\n",
       "      <td>0.431000</td>\n",
       "      <td>34</td>\n",
       "      <td>103</td>\n",
       "      <td>0.330</td>\n",
       "      <td>...</td>\n",
       "      <td>7</td>\n",
       "      <td>236</td>\n",
       "      <td>-82</td>\n",
       "      <td>2</td>\n",
       "      <td>Justin Anderson</td>\n",
       "      <td>1626147</td>\n",
       "      <td>24</td>\n",
       "      <td>2017</td>\n",
       "      <td>23</td>\n",
       "      <td>2</td>\n",
       "    </tr>\n",
       "    <tr>\n",
       "      <th>3</th>\n",
       "      <td>3</td>\n",
       "      <td>2017-18</td>\n",
       "      <td>56</td>\n",
       "      <td>974.210000</td>\n",
       "      <td>144</td>\n",
       "      <td>382</td>\n",
       "      <td>0.377000</td>\n",
       "      <td>72</td>\n",
       "      <td>199</td>\n",
       "      <td>0.362</td>\n",
       "      <td>...</td>\n",
       "      <td>5</td>\n",
       "      <td>405</td>\n",
       "      <td>-149</td>\n",
       "      <td>0</td>\n",
       "      <td>Tyler Dorsey</td>\n",
       "      <td>1628416</td>\n",
       "      <td>22</td>\n",
       "      <td>2017</td>\n",
       "      <td>21</td>\n",
       "      <td>1</td>\n",
       "    </tr>\n",
       "    <tr>\n",
       "      <th>4</th>\n",
       "      <td>4</td>\n",
       "      <td>2018-19</td>\n",
       "      <td>7</td>\n",
       "      <td>68.898333</td>\n",
       "      <td>10</td>\n",
       "      <td>27</td>\n",
       "      <td>0.370000</td>\n",
       "      <td>2</td>\n",
       "      <td>9</td>\n",
       "      <td>0.222</td>\n",
       "      <td>...</td>\n",
       "      <td>0</td>\n",
       "      <td>26</td>\n",
       "      <td>-3</td>\n",
       "      <td>1</td>\n",
       "      <td>Tyler Dorsey</td>\n",
       "      <td>1628416</td>\n",
       "      <td>22</td>\n",
       "      <td>2018</td>\n",
       "      <td>22</td>\n",
       "      <td>1</td>\n",
       "    </tr>\n",
       "    <tr>\n",
       "      <th>5</th>\n",
       "      <td>5</td>\n",
       "      <td>2018-19</td>\n",
       "      <td>13</td>\n",
       "      <td>227.350000</td>\n",
       "      <td>22</td>\n",
       "      <td>59</td>\n",
       "      <td>0.373000</td>\n",
       "      <td>11</td>\n",
       "      <td>31</td>\n",
       "      <td>0.355</td>\n",
       "      <td>...</td>\n",
       "      <td>3</td>\n",
       "      <td>62</td>\n",
       "      <td>7</td>\n",
       "      <td>0</td>\n",
       "      <td>Kevin Huerter</td>\n",
       "      <td>1628989</td>\n",
       "      <td>20</td>\n",
       "      <td>2018</td>\n",
       "      <td>20</td>\n",
       "      <td>0</td>\n",
       "    </tr>\n",
       "    <tr>\n",
       "      <th>6</th>\n",
       "      <td>6</td>\n",
       "      <td>2017-18</td>\n",
       "      <td>6</td>\n",
       "      <td>27.728333</td>\n",
       "      <td>5</td>\n",
       "      <td>11</td>\n",
       "      <td>0.455000</td>\n",
       "      <td>2</td>\n",
       "      <td>5</td>\n",
       "      <td>0.400</td>\n",
       "      <td>...</td>\n",
       "      <td>0</td>\n",
       "      <td>12</td>\n",
       "      <td>-12</td>\n",
       "      <td>0</td>\n",
       "      <td>Daniel Hamilton</td>\n",
       "      <td>1627772</td>\n",
       "      <td>23</td>\n",
       "      <td>2017</td>\n",
       "      <td>22</td>\n",
       "      <td>0</td>\n",
       "    </tr>\n",
       "    <tr>\n",
       "      <th>7</th>\n",
       "      <td>7</td>\n",
       "      <td>2018-19</td>\n",
       "      <td>13</td>\n",
       "      <td>260.753333</td>\n",
       "      <td>33</td>\n",
       "      <td>81</td>\n",
       "      <td>0.407000</td>\n",
       "      <td>13</td>\n",
       "      <td>37</td>\n",
       "      <td>0.351</td>\n",
       "      <td>...</td>\n",
       "      <td>7</td>\n",
       "      <td>89</td>\n",
       "      <td>-53</td>\n",
       "      <td>0</td>\n",
       "      <td>Omari Spellman</td>\n",
       "      <td>1629016</td>\n",
       "      <td>21</td>\n",
       "      <td>2018</td>\n",
       "      <td>21</td>\n",
       "      <td>0</td>\n",
       "    </tr>\n",
       "    <tr>\n",
       "      <th>8</th>\n",
       "      <td>8</td>\n",
       "      <td>2010-11</td>\n",
       "      <td>29</td>\n",
       "      <td>284.513333</td>\n",
       "      <td>28</td>\n",
       "      <td>72</td>\n",
       "      <td>0.389000</td>\n",
       "      <td>1</td>\n",
       "      <td>5</td>\n",
       "      <td>0.200</td>\n",
       "      <td>...</td>\n",
       "      <td>9</td>\n",
       "      <td>76</td>\n",
       "      <td>8</td>\n",
       "      <td>0</td>\n",
       "      <td>Jeremy Lin</td>\n",
       "      <td>202391</td>\n",
       "      <td>30</td>\n",
       "      <td>2010</td>\n",
       "      <td>22</td>\n",
       "      <td>8</td>\n",
       "    </tr>\n",
       "    <tr>\n",
       "      <th>9</th>\n",
       "      <td>9</td>\n",
       "      <td>2011-12</td>\n",
       "      <td>35</td>\n",
       "      <td>940.431667</td>\n",
       "      <td>171</td>\n",
       "      <td>383</td>\n",
       "      <td>0.446000</td>\n",
       "      <td>24</td>\n",
       "      <td>75</td>\n",
       "      <td>0.320</td>\n",
       "      <td>...</td>\n",
       "      <td>9</td>\n",
       "      <td>512</td>\n",
       "      <td>142</td>\n",
       "      <td>1</td>\n",
       "      <td>Jeremy Lin</td>\n",
       "      <td>202391</td>\n",
       "      <td>30</td>\n",
       "      <td>2011</td>\n",
       "      <td>23</td>\n",
       "      <td>8</td>\n",
       "    </tr>\n",
       "  </tbody>\n",
       "</table>\n",
       "<p>10 rows × 29 columns</p>\n",
       "</div>"
      ],
      "text/plain": [
       "   Unnamed: 0 GROUP_VALUE   GP          MIN  FGM  FGA    FG_PCT  FG3M  FG3A  \\\n",
       "0           0     2015-16   55   646.876667   71  175  0.406000    22    83   \n",
       "1           1     2016-17  150  2454.466667  372  878  0.429333   116   388   \n",
       "2           2     2017-18   38   519.150000   87  202  0.431000    34   103   \n",
       "3           3     2017-18   56   974.210000  144  382  0.377000    72   199   \n",
       "4           4     2018-19    7    68.898333   10   27  0.370000     2     9   \n",
       "5           5     2018-19   13   227.350000   22   59  0.373000    11    31   \n",
       "6           6     2017-18    6    27.728333    5   11  0.455000     2     5   \n",
       "7           7     2018-19   13   260.753333   33   81  0.407000    13    37   \n",
       "8           8     2010-11   29   284.513333   28   72  0.389000     1     5   \n",
       "9           9     2011-12   35   940.431667  171  383  0.446000    24    75   \n",
       "\n",
       "   FG3_PCT       ...        BLK   PTS  PLUS_MINUS  experience  \\\n",
       "0    0.265       ...         25   208           7           0   \n",
       "1    0.298       ...         46  1064        -388           1   \n",
       "2    0.330       ...          7   236         -82           2   \n",
       "3    0.362       ...          5   405        -149           0   \n",
       "4    0.222       ...          0    26          -3           1   \n",
       "5    0.355       ...          3    62           7           0   \n",
       "6    0.400       ...          0    12         -12           0   \n",
       "7    0.351       ...          7    89         -53           0   \n",
       "8    0.200       ...          9    76           8           0   \n",
       "9    0.320       ...          9   512         142           1   \n",
       "\n",
       "       PLAYER_NAME  PLAYER_ID  age    yr  adj_age  max_experience  \n",
       "0  Justin Anderson    1626147   24  2015       21               2  \n",
       "1  Justin Anderson    1626147   24  2016       22               2  \n",
       "2  Justin Anderson    1626147   24  2017       23               2  \n",
       "3     Tyler Dorsey    1628416   22  2017       21               1  \n",
       "4     Tyler Dorsey    1628416   22  2018       22               1  \n",
       "5    Kevin Huerter    1628989   20  2018       20               0  \n",
       "6  Daniel Hamilton    1627772   23  2017       22               0  \n",
       "7   Omari Spellman    1629016   21  2018       21               0  \n",
       "8       Jeremy Lin     202391   30  2010       22               8  \n",
       "9       Jeremy Lin     202391   30  2011       23               8  \n",
       "\n",
       "[10 rows x 29 columns]"
      ]
     },
     "execution_count": 32,
     "metadata": {},
     "output_type": "execute_result"
    }
   ],
   "source": [
    "player_data = pd.read_csv(\"total_player_stats_by_year.csv\")\n",
    "player_data.head(10)"
   ]
  },
  {
   "cell_type": "code",
   "execution_count": 31,
   "metadata": {},
   "outputs": [
    {
     "data": {
      "text/plain": [
       "count    1870.000000\n",
       "mean      162.797861\n",
       "std       166.842688\n",
       "min         0.000000\n",
       "25%        16.000000\n",
       "50%       118.000000\n",
       "75%       263.750000\n",
       "max       902.000000\n",
       "Name: FG3A, dtype: float64"
      ]
     },
     "execution_count": 31,
     "metadata": {},
     "output_type": "execute_result"
    }
   ],
   "source": [
    "exp_players = player_data[player_data[\"max_experience\"] > 4]\n",
    "exp_players['FG3A'].describe()\n",
    "# The average experienced player attempts 162 3s per season"
   ]
  },
  {
   "cell_type": "code",
   "execution_count": 29,
   "metadata": {},
   "outputs": [
    {
     "data": {
      "text/plain": [
       "array([[<matplotlib.axes._subplots.AxesSubplot object at 0x10ddf72b0>]],\n",
       "      dtype=object)"
      ]
     },
     "execution_count": 29,
     "metadata": {},
     "output_type": "execute_result"
    },
    {
     "data": {
      "image/png": "[encoded data removed]",
      "text/plain": [
       "<matplotlib.figure.Figure at 0x10e74d908>"
      ]
     },
     "metadata": {},
     "output_type": "display_data"
    }
   ],
   "source": [
    "exp_players.hist(column='FG3A') # Here we see how the attempts are distributed across players"
   ]
  },
  {
   "cell_type": "code",
   "execution_count": 34,
   "metadata": {},
   "outputs": [
    {
     "data": {
      "text/plain": [
       "array([[<matplotlib.axes._subplots.AxesSubplot object at 0x10ed27e10>]],\n",
       "      dtype=object)"
      ]
     },
     "execution_count": 34,
     "metadata": {},
     "output_type": "execute_result"
    },
    {
     "data": {
      "image/png": "[encoded data removed]",
      "text/plain": [
       "<matplotlib.figure.Figure at 0x10ecfb390>"
      ]
     },
     "metadata": {},
     "output_type": "display_data"
    }
   ],
   "source": [
    "exp_players = player_data[player_data[\"max_experience\"] > 4]\n",
    "exp_players.hist(column='FTA') # Similar phenomena with free throw attempts"
   ]
  },
  {
   "cell_type": "code",
   "execution_count": 22,
   "metadata": {},
   "outputs": [
    {
     "data": {
      "text/plain": [
       "0.36617071203611457"
      ]
     },
     "execution_count": 22,
     "metadata": {},
     "output_type": "execute_result"
    }
   ],
   "source": [
    "experienced_players = player_data[player_data[\"max_experience\"] > 4]\n",
    "qualified_players = experienced_players[experienced_players[\"FG3A\"] > 120] # Players who shoot ~1.5 3s per game\n",
    "qualified_players['FG3M'].sum() / qualified_players['FG3A'].sum()"
   ]
  },
  {
   "cell_type": "markdown",
   "metadata": {},
   "source": [
    "Across all experienced players, the career average is 0.36.\n",
    "This likely doesn't tell a perfect picture though; better shooters will probably shoot more and therefore\n",
    "buoy the average shooting percentage. We need to look at this on a player by player basis"
   ]
  },
  {
   "cell_type": "code",
   "execution_count": 35,
   "metadata": {
    "scrolled": true
   },
   "outputs": [
    {
     "data": {
      "text/plain": [
       "count    152.000000\n",
       "mean       0.359009\n",
       "std        0.028861\n",
       "min        0.247082\n",
       "25%        0.340190\n",
       "50%        0.359166\n",
       "75%        0.377488\n",
       "max        0.444840\n",
       "Name: 3PCT, dtype: float64"
      ]
     },
     "execution_count": 35,
     "metadata": {},
     "output_type": "execute_result"
    }
   ],
   "source": [
    "career_shooting = qualified_players.groupby(['PLAYER_ID']).agg({'FG3M': np.sum, 'FG3A': np.sum, \n",
    "                                                                'FTM': np.sum, 'FTA': np.sum})\n",
    "career_shooting['3PCT'] = career_shooting['FG3M'] / career_shooting['FG3A']\n",
    "career_shooting['FTPCT'] = career_shooting['FTM'] / career_shooting['FTA']\n",
    "\n",
    "career_shooting['3PCT'].describe()"
   ]
  },
  {
   "cell_type": "code",
   "execution_count": 30,
   "metadata": {},
   "outputs": [
    {
     "data": {
      "text/plain": [
       "array([[<matplotlib.axes._subplots.AxesSubplot object at 0x10ebc8b38>]],\n",
       "      dtype=object)"
      ]
     },
     "execution_count": 30,
     "metadata": {},
     "output_type": "execute_result"
    },
    {
     "data": {
      "image/png": "[encoded data removed]",
      "text/plain": [
       "<matplotlib.figure.Figure at 0x10ebcb160>"
      ]
     },
     "metadata": {},
     "output_type": "display_data"
    }
   ],
   "source": [
    "career_shooting.hist(column='3PCT')"
   ]
  },
  {
   "cell_type": "code",
   "execution_count": 37,
   "metadata": {},
   "outputs": [
    {
     "data": {
      "text/plain": [
       "count    152.000000\n",
       "mean       0.794116\n",
       "std        0.062125\n",
       "min        0.507463\n",
       "25%        0.757827\n",
       "50%        0.803738\n",
       "75%        0.835689\n",
       "max        0.919355\n",
       "Name: FTPCT, dtype: float64"
      ]
     },
     "execution_count": 37,
     "metadata": {},
     "output_type": "execute_result"
    }
   ],
   "source": [
    "career_shooting['FTPCT'].describe()"
   ]
  },
  {
   "cell_type": "code",
   "execution_count": 36,
   "metadata": {},
   "outputs": [
    {
     "data": {
      "text/plain": [
       "array([[<matplotlib.axes._subplots.AxesSubplot object at 0x10e78ac88>]],\n",
       "      dtype=object)"
      ]
     },
     "execution_count": 36,
     "metadata": {},
     "output_type": "execute_result"
    },
    {
     "data": {
      "image/png": "[encoded data removed]",
      "text/plain": [
       "<matplotlib.figure.Figure at 0x10ed405c0>"
      ]
     },
     "metadata": {},
     "output_type": "display_data"
    }
   ],
   "source": [
    "career_shooting.hist(column='FTPCT')"
   ]
  },
  {
   "cell_type": "markdown",
   "metadata": {},
   "source": [
    "#### Baselines Conclusions\n",
    "\n",
    "I think this gives us a pretty good idea of what to base our assumptions off of once we start looking further into the data. Qualified players (who shoot > 120 attempts per season) average about 36% from 3, which is a slight tick above conventional wisdom of league average shooting. Free throwing shooting is ~79% on average, which seems reasonable as well.\n",
    "\n",
    "The shape of the shot attempt distributions surprised me a bit, but on further thought in makes sense, especially since we aren't using per 36 numbers or anything like that. "
   ]
  },
  {
   "cell_type": "markdown",
   "metadata": {},
   "source": [
    "### Part 2: Effects of experience on shooting\n",
    "\n",
    "Let's see what shooting splits look at based on how many years a player has been in the league"
   ]
  },
  {
   "cell_type": "code",
   "execution_count": 42,
   "metadata": {},
   "outputs": [
    {
     "data": {
      "text/plain": [
       "<matplotlib.axes._subplots.AxesSubplot at 0x10eeeaa58>"
      ]
     },
     "execution_count": 42,
     "metadata": {},
     "output_type": "execute_result"
    },
    {
     "data": {
      "image/png": "[encoded data removed]",
      "text/plain": [
       "<matplotlib.figure.Figure at 0x10ef927f0>"
      ]
     },
     "metadata": {},
     "output_type": "display_data"
    }
   ],
   "source": [
    "shots_by_experience = qualified_players.groupby('experience').agg({'FG3_PCT': np.mean}).reset_index()\n",
    "shots_by_experience.plot.line(x='experience', y='FG3_PCT')"
   ]
  },
  {
   "cell_type": "code",
   "execution_count": 44,
   "metadata": {},
   "outputs": [
    {
     "data": {
      "text/plain": [
       "<matplotlib.axes._subplots.AxesSubplot at 0x10f000ba8>"
      ]
     },
     "execution_count": 44,
     "metadata": {},
     "output_type": "execute_result"
    },
    {
     "data": {
      "image/png": "[encoded data removed]",
      "text/plain": [
       "<matplotlib.figure.Figure at 0x10e78a780>"
      ]
     },
     "metadata": {},
     "output_type": "display_data"
    }
   ],
   "source": [
    "# There's a lot of noise at the end here, what if we restrict the sample a bit?\n",
    "shots_by_experience[shots_by_experience[\"experience\"] < 11].plot.line(x='experience', y='FG3_PCT')"
   ]
  },
  {
   "cell_type": "markdown",
   "metadata": {},
   "source": [
    "It looks like first year plays are poor at shooting, but after the first year the percentages bounce up to career averages. Players can expect a slight uptick in shooting as their career progresses but nothing extreme.\n",
    "\n",
    "What about free throws?"
   ]
  },
  {
   "cell_type": "code",
   "execution_count": 47,
   "metadata": {},
   "outputs": [
    {
     "data": {
      "text/plain": [
       "<matplotlib.axes._subplots.AxesSubplot at 0x10f1d2160>"
      ]
     },
     "execution_count": 47,
     "metadata": {},
     "output_type": "execute_result"
    },
    {
     "data": {
      "image/png": "[encoded data removed]",
      "text/plain": [
       "<matplotlib.figure.Figure at 0x10f14d080>"
      ]
     },
     "metadata": {},
     "output_type": "display_data"
    }
   ],
   "source": [
    "fts_by_experience = qualified_players.groupby('experience').agg({'FT_PCT': np.mean}).reset_index()\n",
    "fts_by_experience.plot.line(x='experience', y='FT_PCT')"
   ]
  },
  {
   "cell_type": "code",
   "execution_count": 48,
   "metadata": {},
   "outputs": [
    {
     "data": {
      "text/plain": [
       "<matplotlib.axes._subplots.AxesSubplot at 0x10f151c50>"
      ]
     },
     "execution_count": 48,
     "metadata": {},
     "output_type": "execute_result"
    },
    {
     "data": {
      "image/png": "[encoded data removed]",
      "text/plain": [
       "<matplotlib.figure.Figure at 0x10f14d390>"
      ]
     },
     "metadata": {},
     "output_type": "display_data"
    }
   ],
   "source": [
    "fts_by_experience[fts_by_experience[\"experience\"] < 12].plot.line(x='experience', y='FT_PCT')"
   ]
  },
  {
   "cell_type": "markdown",
   "metadata": {},
   "source": [
    "Here we see that it takes a little longer for free throw shooting to stabilize, although the gains are slim"
   ]
  },
  {
   "cell_type": "markdown",
   "metadata": {},
   "source": [
    "### Part 3: Effects of age on shooting"
   ]
  },
  {
   "cell_type": "code",
   "execution_count": 51,
   "metadata": {},
   "outputs": [
    {
     "data": {
      "text/plain": [
       "<matplotlib.axes._subplots.AxesSubplot at 0x10f14df28>"
      ]
     },
     "execution_count": 51,
     "metadata": {},
     "output_type": "execute_result"
    },
    {
     "data": {
      "image/png": "[encoded data removed]",
      "text/plain": [
       "<matplotlib.figure.Figure at 0x10f14cfd0>"
      ]
     },
     "metadata": {},
     "output_type": "display_data"
    }
   ],
   "source": [
    "shots_by_age = qualified_players.groupby('adj_age').agg({'FG3_PCT': np.mean}).reset_index()\n",
    "shots_by_age.plot.line(x='adj_age', y='FG3_PCT')"
   ]
  },
  {
   "cell_type": "markdown",
   "metadata": {},
   "source": [
    "Once again, we find that young players are truly awful at shooting. However, after some rough numbers early on we can see that their shooting steadily progress deep into their career"
   ]
  },
  {
   "cell_type": "code",
   "execution_count": 73,
   "metadata": {},
   "outputs": [
    {
     "data": {
      "text/html": [
       "<div>\n",
       "<table border=\"1\" class=\"dataframe\">\n",
       "  <thead>\n",
       "    <tr style=\"text-align: right;\">\n",
       "      <th></th>\n",
       "      <th>FG3A</th>\n",
       "      <th>FG3M</th>\n",
       "      <th>3PCT</th>\n",
       "      <th>bin</th>\n",
       "    </tr>\n",
       "  </thead>\n",
       "  <tbody>\n",
       "    <tr>\n",
       "      <th>10</th>\n",
       "      <td>257</td>\n",
       "      <td>87</td>\n",
       "      <td>0.338521</td>\n",
       "      <td>2</td>\n",
       "    </tr>\n",
       "    <tr>\n",
       "      <th>11</th>\n",
       "      <td>486</td>\n",
       "      <td>169</td>\n",
       "      <td>0.347737</td>\n",
       "      <td>4</td>\n",
       "    </tr>\n",
       "    <tr>\n",
       "      <th>12</th>\n",
       "      <td>662</td>\n",
       "      <td>234</td>\n",
       "      <td>0.353474</td>\n",
       "      <td>6</td>\n",
       "    </tr>\n",
       "    <tr>\n",
       "      <th>13</th>\n",
       "      <td>888</td>\n",
       "      <td>310</td>\n",
       "      <td>0.349099</td>\n",
       "      <td>8</td>\n",
       "    </tr>\n",
       "    <tr>\n",
       "      <th>14</th>\n",
       "      <td>1044</td>\n",
       "      <td>368</td>\n",
       "      <td>0.352490</td>\n",
       "      <td>10</td>\n",
       "    </tr>\n",
       "    <tr>\n",
       "      <th>26</th>\n",
       "      <td>141</td>\n",
       "      <td>50</td>\n",
       "      <td>0.354610</td>\n",
       "      <td>1</td>\n",
       "    </tr>\n",
       "    <tr>\n",
       "      <th>29</th>\n",
       "      <td>236</td>\n",
       "      <td>95</td>\n",
       "      <td>0.402542</td>\n",
       "      <td>2</td>\n",
       "    </tr>\n",
       "    <tr>\n",
       "      <th>30</th>\n",
       "      <td>633</td>\n",
       "      <td>257</td>\n",
       "      <td>0.406003</td>\n",
       "      <td>6</td>\n",
       "    </tr>\n",
       "    <tr>\n",
       "      <th>31</th>\n",
       "      <td>946</td>\n",
       "      <td>378</td>\n",
       "      <td>0.399577</td>\n",
       "      <td>9</td>\n",
       "    </tr>\n",
       "    <tr>\n",
       "      <th>32</th>\n",
       "      <td>1077</td>\n",
       "      <td>423</td>\n",
       "      <td>0.392758</td>\n",
       "      <td>10</td>\n",
       "    </tr>\n",
       "  </tbody>\n",
       "</table>\n",
       "</div>"
      ],
      "text/plain": [
       "    FG3A  FG3M      3PCT  bin\n",
       "10   257    87  0.338521    2\n",
       "11   486   169  0.347737    4\n",
       "12   662   234  0.353474    6\n",
       "13   888   310  0.349099    8\n",
       "14  1044   368  0.352490   10\n",
       "26   141    50  0.354610    1\n",
       "29   236    95  0.402542    2\n",
       "30   633   257  0.406003    6\n",
       "31   946   378  0.399577    9\n",
       "32  1077   423  0.392758   10"
      ]
     },
     "execution_count": 73,
     "metadata": {},
     "output_type": "execute_result"
    }
   ],
   "source": [
    "binned_players = qualified_players.groupby('PLAYER_ID')[['FG3M', 'FG3A']].cumsum()\n",
    "binned_players['3PCT'] = binned_players['FG3M'] / binned_players['FG3A']\n",
    "binned_players['bin'] = np.floor(binned_players['FG3A'] / 100)\n",
    "binned_players.head(10)"
   ]
  },
  {
   "cell_type": "code",
   "execution_count": 74,
   "metadata": {},
   "outputs": [
    {
     "data": {
      "text/plain": [
       "<matplotlib.axes._subplots.AxesSubplot at 0x10f5aed68>"
      ]
     },
     "execution_count": 74,
     "metadata": {},
     "output_type": "execute_result"
    },
    {
     "data": {
      "image/png": "[encoded data removed]",
      "text/plain": [
       "<matplotlib.figure.Figure at 0x10f4d0550>"
      ]
     },
     "metadata": {},
     "output_type": "display_data"
    }
   ],
   "source": [
    "binned_players.plot.scatter(x='FG3A', y='3PCT')"
   ]
  },
  {
   "cell_type": "code",
   "execution_count": 71,
   "metadata": {},
   "outputs": [
    {
     "data": {
      "text/plain": [
       "<matplotlib.axes._subplots.AxesSubplot at 0x10f3bc1d0>"
      ]
     },
     "execution_count": 71,
     "metadata": {},
     "output_type": "execute_result"
    },
    {
     "data": {
      "image/png": "[encoded data removed]",
      "text/plain": [
       "<matplotlib.figure.Figure at 0x10f458da0>"
      ]
     },
     "metadata": {},
     "output_type": "display_data"
    }
   ],
   "source": [
    "binned_player_shooting = binned_players.groupby('bin')[[\"3PCT\"]].mean().reset_index()\n",
    "# binned_player_shooting.plot.line(x='bin', y='3PCT')\n",
    "# I excluded later bins because there was lots of variance at the end\n",
    "binned_player_shooting[binned_player_shooting[\"bin\"] < 40].plot.line(x='bin', y='3PCT') "
   ]
  },
  {
   "cell_type": "code",
   "execution_count": 72,
   "metadata": {},
   "outputs": [
    {
     "data": {
      "text/plain": [
       "<matplotlib.axes._subplots.AxesSubplot at 0x10f4de860>"
      ]
     },
     "execution_count": 72,
     "metadata": {},
     "output_type": "execute_result"
    },
    {
     "data": {
      "image/png": "[encoded data removed]",
      "text/plain": [
       "<matplotlib.figure.Figure at 0x10f4de5c0>"
      ]
     },
     "metadata": {},
     "output_type": "display_data"
    }
   ],
   "source": [
    "binned_player_shooting[binned_player_shooting[\"bin\"] < 40].plot.line(x='bin', y='3PCT') # I excluded later bins because there was lots of variance at the end"
   ]
  },
  {
   "cell_type": "code",
   "execution_count": 75,
   "metadata": {},
   "outputs": [
    {
     "data": {
      "text/html": [
       "<div>\n",
       "<table border=\"1\" class=\"dataframe\">\n",
       "  <thead>\n",
       "    <tr style=\"text-align: right;\">\n",
       "      <th></th>\n",
       "      <th>Unnamed: 0</th>\n",
       "      <th>GROUP_VALUE</th>\n",
       "      <th>GP</th>\n",
       "      <th>MIN</th>\n",
       "      <th>FGM</th>\n",
       "      <th>FGA</th>\n",
       "      <th>FG_PCT</th>\n",
       "      <th>FG3M</th>\n",
       "      <th>FG3A</th>\n",
       "      <th>FG3_PCT</th>\n",
       "      <th>...</th>\n",
       "      <th>BLK</th>\n",
       "      <th>PTS</th>\n",
       "      <th>PLUS_MINUS</th>\n",
       "      <th>experience</th>\n",
       "      <th>PLAYER_NAME</th>\n",
       "      <th>PLAYER_ID</th>\n",
       "      <th>age</th>\n",
       "      <th>yr</th>\n",
       "      <th>adj_age</th>\n",
       "      <th>max_experience</th>\n",
       "    </tr>\n",
       "  </thead>\n",
       "  <tbody>\n",
       "    <tr>\n",
       "      <th>10</th>\n",
       "      <td>10</td>\n",
       "      <td>2012-13</td>\n",
       "      <td>82</td>\n",
       "      <td>2639.955000</td>\n",
       "      <td>396</td>\n",
       "      <td>897</td>\n",
       "      <td>0.441</td>\n",
       "      <td>87</td>\n",
       "      <td>257</td>\n",
       "      <td>0.339</td>\n",
       "      <td>...</td>\n",
       "      <td>29</td>\n",
       "      <td>1095</td>\n",
       "      <td>133</td>\n",
       "      <td>2</td>\n",
       "      <td>Jeremy Lin</td>\n",
       "      <td>202391</td>\n",
       "      <td>30</td>\n",
       "      <td>2012</td>\n",
       "      <td>24</td>\n",
       "      <td>8</td>\n",
       "    </tr>\n",
       "    <tr>\n",
       "      <th>11</th>\n",
       "      <td>11</td>\n",
       "      <td>2013-14</td>\n",
       "      <td>71</td>\n",
       "      <td>2054.025000</td>\n",
       "      <td>295</td>\n",
       "      <td>662</td>\n",
       "      <td>0.446</td>\n",
       "      <td>82</td>\n",
       "      <td>229</td>\n",
       "      <td>0.358</td>\n",
       "      <td>...</td>\n",
       "      <td>27</td>\n",
       "      <td>890</td>\n",
       "      <td>175</td>\n",
       "      <td>3</td>\n",
       "      <td>Jeremy Lin</td>\n",
       "      <td>202391</td>\n",
       "      <td>30</td>\n",
       "      <td>2013</td>\n",
       "      <td>25</td>\n",
       "      <td>8</td>\n",
       "    </tr>\n",
       "    <tr>\n",
       "      <th>12</th>\n",
       "      <td>12</td>\n",
       "      <td>2014-15</td>\n",
       "      <td>74</td>\n",
       "      <td>1906.723333</td>\n",
       "      <td>277</td>\n",
       "      <td>654</td>\n",
       "      <td>0.424</td>\n",
       "      <td>65</td>\n",
       "      <td>176</td>\n",
       "      <td>0.369</td>\n",
       "      <td>...</td>\n",
       "      <td>32</td>\n",
       "      <td>832</td>\n",
       "      <td>-253</td>\n",
       "      <td>4</td>\n",
       "      <td>Jeremy Lin</td>\n",
       "      <td>202391</td>\n",
       "      <td>30</td>\n",
       "      <td>2014</td>\n",
       "      <td>26</td>\n",
       "      <td>8</td>\n",
       "    </tr>\n",
       "    <tr>\n",
       "      <th>13</th>\n",
       "      <td>13</td>\n",
       "      <td>2015-16</td>\n",
       "      <td>78</td>\n",
       "      <td>2047.555000</td>\n",
       "      <td>300</td>\n",
       "      <td>728</td>\n",
       "      <td>0.412</td>\n",
       "      <td>76</td>\n",
       "      <td>226</td>\n",
       "      <td>0.336</td>\n",
       "      <td>...</td>\n",
       "      <td>42</td>\n",
       "      <td>914</td>\n",
       "      <td>84</td>\n",
       "      <td>5</td>\n",
       "      <td>Jeremy Lin</td>\n",
       "      <td>202391</td>\n",
       "      <td>30</td>\n",
       "      <td>2015</td>\n",
       "      <td>27</td>\n",
       "      <td>8</td>\n",
       "    </tr>\n",
       "    <tr>\n",
       "      <th>14</th>\n",
       "      <td>14</td>\n",
       "      <td>2016-17</td>\n",
       "      <td>36</td>\n",
       "      <td>882.588333</td>\n",
       "      <td>175</td>\n",
       "      <td>400</td>\n",
       "      <td>0.438</td>\n",
       "      <td>58</td>\n",
       "      <td>156</td>\n",
       "      <td>0.372</td>\n",
       "      <td>...</td>\n",
       "      <td>14</td>\n",
       "      <td>523</td>\n",
       "      <td>-83</td>\n",
       "      <td>6</td>\n",
       "      <td>Jeremy Lin</td>\n",
       "      <td>202391</td>\n",
       "      <td>30</td>\n",
       "      <td>2016</td>\n",
       "      <td>28</td>\n",
       "      <td>8</td>\n",
       "    </tr>\n",
       "    <tr>\n",
       "      <th>26</th>\n",
       "      <td>26</td>\n",
       "      <td>2017-18</td>\n",
       "      <td>62</td>\n",
       "      <td>1542.273333</td>\n",
       "      <td>250</td>\n",
       "      <td>477</td>\n",
       "      <td>0.524</td>\n",
       "      <td>50</td>\n",
       "      <td>141</td>\n",
       "      <td>0.355</td>\n",
       "      <td>...</td>\n",
       "      <td>51</td>\n",
       "      <td>617</td>\n",
       "      <td>-158</td>\n",
       "      <td>4</td>\n",
       "      <td>Dewayne Dedmon</td>\n",
       "      <td>203473</td>\n",
       "      <td>29</td>\n",
       "      <td>2017</td>\n",
       "      <td>28</td>\n",
       "      <td>5</td>\n",
       "    </tr>\n",
       "    <tr>\n",
       "      <th>29</th>\n",
       "      <td>29</td>\n",
       "      <td>1999-00</td>\n",
       "      <td>82</td>\n",
       "      <td>3127.983333</td>\n",
       "      <td>788</td>\n",
       "      <td>1696</td>\n",
       "      <td>0.465</td>\n",
       "      <td>95</td>\n",
       "      <td>236</td>\n",
       "      <td>0.403</td>\n",
       "      <td>...</td>\n",
       "      <td>92</td>\n",
       "      <td>2107</td>\n",
       "      <td>181</td>\n",
       "      <td>1</td>\n",
       "      <td>Vince Carter</td>\n",
       "      <td>1713</td>\n",
       "      <td>41</td>\n",
       "      <td>1999</td>\n",
       "      <td>22</td>\n",
       "      <td>20</td>\n",
       "    </tr>\n",
       "    <tr>\n",
       "      <th>30</th>\n",
       "      <td>30</td>\n",
       "      <td>2000-01</td>\n",
       "      <td>75</td>\n",
       "      <td>2980.056667</td>\n",
       "      <td>762</td>\n",
       "      <td>1656</td>\n",
       "      <td>0.460</td>\n",
       "      <td>162</td>\n",
       "      <td>397</td>\n",
       "      <td>0.408</td>\n",
       "      <td>...</td>\n",
       "      <td>82</td>\n",
       "      <td>2070</td>\n",
       "      <td>323</td>\n",
       "      <td>2</td>\n",
       "      <td>Vince Carter</td>\n",
       "      <td>1713</td>\n",
       "      <td>41</td>\n",
       "      <td>2000</td>\n",
       "      <td>23</td>\n",
       "      <td>20</td>\n",
       "    </tr>\n",
       "    <tr>\n",
       "      <th>31</th>\n",
       "      <td>31</td>\n",
       "      <td>2001-02</td>\n",
       "      <td>60</td>\n",
       "      <td>2385.645000</td>\n",
       "      <td>559</td>\n",
       "      <td>1307</td>\n",
       "      <td>0.428</td>\n",
       "      <td>121</td>\n",
       "      <td>313</td>\n",
       "      <td>0.387</td>\n",
       "      <td>...</td>\n",
       "      <td>45</td>\n",
       "      <td>1484</td>\n",
       "      <td>68</td>\n",
       "      <td>3</td>\n",
       "      <td>Vince Carter</td>\n",
       "      <td>1713</td>\n",
       "      <td>41</td>\n",
       "      <td>2001</td>\n",
       "      <td>24</td>\n",
       "      <td>20</td>\n",
       "    </tr>\n",
       "    <tr>\n",
       "      <th>32</th>\n",
       "      <td>32</td>\n",
       "      <td>2002-03</td>\n",
       "      <td>43</td>\n",
       "      <td>1470.348333</td>\n",
       "      <td>355</td>\n",
       "      <td>760</td>\n",
       "      <td>0.467</td>\n",
       "      <td>45</td>\n",
       "      <td>131</td>\n",
       "      <td>0.344</td>\n",
       "      <td>...</td>\n",
       "      <td>41</td>\n",
       "      <td>884</td>\n",
       "      <td>-27</td>\n",
       "      <td>4</td>\n",
       "      <td>Vince Carter</td>\n",
       "      <td>1713</td>\n",
       "      <td>41</td>\n",
       "      <td>2002</td>\n",
       "      <td>25</td>\n",
       "      <td>20</td>\n",
       "    </tr>\n",
       "  </tbody>\n",
       "</table>\n",
       "<p>10 rows × 29 columns</p>\n",
       "</div>"
      ],
      "text/plain": [
       "    Unnamed: 0 GROUP_VALUE  GP          MIN  FGM   FGA  FG_PCT  FG3M  FG3A  \\\n",
       "10          10     2012-13  82  2639.955000  396   897   0.441    87   257   \n",
       "11          11     2013-14  71  2054.025000  295   662   0.446    82   229   \n",
       "12          12     2014-15  74  1906.723333  277   654   0.424    65   176   \n",
       "13          13     2015-16  78  2047.555000  300   728   0.412    76   226   \n",
       "14          14     2016-17  36   882.588333  175   400   0.438    58   156   \n",
       "26          26     2017-18  62  1542.273333  250   477   0.524    50   141   \n",
       "29          29     1999-00  82  3127.983333  788  1696   0.465    95   236   \n",
       "30          30     2000-01  75  2980.056667  762  1656   0.460   162   397   \n",
       "31          31     2001-02  60  2385.645000  559  1307   0.428   121   313   \n",
       "32          32     2002-03  43  1470.348333  355   760   0.467    45   131   \n",
       "\n",
       "    FG3_PCT       ...        BLK   PTS  PLUS_MINUS  experience  \\\n",
       "10    0.339       ...         29  1095         133           2   \n",
       "11    0.358       ...         27   890         175           3   \n",
       "12    0.369       ...         32   832        -253           4   \n",
       "13    0.336       ...         42   914          84           5   \n",
       "14    0.372       ...         14   523         -83           6   \n",
       "26    0.355       ...         51   617        -158           4   \n",
       "29    0.403       ...         92  2107         181           1   \n",
       "30    0.408       ...         82  2070         323           2   \n",
       "31    0.387       ...         45  1484          68           3   \n",
       "32    0.344       ...         41   884         -27           4   \n",
       "\n",
       "       PLAYER_NAME  PLAYER_ID  age    yr  adj_age  max_experience  \n",
       "10      Jeremy Lin     202391   30  2012       24               8  \n",
       "11      Jeremy Lin     202391   30  2013       25               8  \n",
       "12      Jeremy Lin     202391   30  2014       26               8  \n",
       "13      Jeremy Lin     202391   30  2015       27               8  \n",
       "14      Jeremy Lin     202391   30  2016       28               8  \n",
       "26  Dewayne Dedmon     203473   29  2017       28               5  \n",
       "29    Vince Carter       1713   41  1999       22              20  \n",
       "30    Vince Carter       1713   41  2000       23              20  \n",
       "31    Vince Carter       1713   41  2001       24              20  \n",
       "32    Vince Carter       1713   41  2002       25              20  \n",
       "\n",
       "[10 rows x 29 columns]"
      ]
     },
     "execution_count": 75,
     "metadata": {},
     "output_type": "execute_result"
    }
   ],
   "source": [
    "qualified_players.head(10)"
   ]
  },
  {
   "cell_type": "code",
   "execution_count": 76,
   "metadata": {},
   "outputs": [
    {
     "data": {
      "text/plain": [
       "<matplotlib.axes._subplots.AxesSubplot at 0x10f6e4e10>"
      ]
     },
     "execution_count": 76,
     "metadata": {},
     "output_type": "execute_result"
    },
    {
     "data": {
      "image/png": "[encoded data removed]",
      "text/plain": [
       "<matplotlib.figure.Figure at 0x10f21e5c0>"
      ]
     },
     "metadata": {},
     "output_type": "display_data"
    }
   ],
   "source": [
    "qualified_players.plot.scatter(x='FG3_PCT', y='FG3A')"
   ]
  },
  {
   "cell_type": "markdown",
   "metadata": {},
   "source": [
    "Good shooters don't necessarily take much more attempts than bad ones, although terrible shooters don't shoot much at all"
   ]
  },
  {
   "cell_type": "code",
   "execution_count": null,
   "metadata": {},
   "outputs": [],
   "source": []
  }
 ],
 "metadata": {
  "kernelspec": {
   "display_name": "Python 3",
   "language": "python",
   "name": "python3"
  },
  "language_info": {
   "codemirror_mode": {
    "name": "ipython",
    "version": 3
   },
   "file_extension": ".py",
   "mimetype": "text/x-python",
   "name": "python",
   "nbconvert_exporter": "python",
   "pygments_lexer": "ipython3",
   "version": "3.6.1"
  }
 },
 "nbformat": 4,
 "nbformat_minor": 2
}
